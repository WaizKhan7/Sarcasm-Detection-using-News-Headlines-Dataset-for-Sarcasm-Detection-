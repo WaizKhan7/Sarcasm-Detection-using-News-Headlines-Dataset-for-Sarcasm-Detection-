{
  "nbformat": 4,
  "nbformat_minor": 0,
  "metadata": {
    "colab": {
      "name": "19030050_Project_KNN.ipynb",
      "provenance": [],
      "collapsed_sections": [],
      "machine_shape": "hm"
    },
    "kernelspec": {
      "name": "python3",
      "display_name": "Python 3"
    }
  },
  "cells": [
    {
      "cell_type": "code",
      "metadata": {
        "id": "ZBj7nomB5Oa-",
        "colab_type": "code",
        "colab": {}
      },
      "source": [
        "import os\n",
        "import re\n",
        "import math\n",
        "import numpy as np\n",
        "import pandas as pd\n",
        "import seaborn as sn\n",
        "import random \n",
        "import csv\n",
        "from matplotlib import pyplot as plt\n",
        "%matplotlib inline\n",
        "from gensim.models import Word2Vec\n",
        "from gensim.models import KeyedVectors\n",
        "from sklearn.metrics.pairwise import cosine_similarity"
      ],
      "execution_count": null,
      "outputs": []
    },
    {
      "cell_type": "code",
      "metadata": {
        "id": "-w6n0V4R6ieJ",
        "colab_type": "code",
        "colab": {
          "base_uri": "https://localhost:8080/",
          "height": 122
        },
        "outputId": "7b2dbab6-3a30-4038-f6b6-d80908c11815"
      },
      "source": [
        "from google.colab import drive\n",
        "drive.mount('drive')"
      ],
      "execution_count": null,
      "outputs": [
        {
          "output_type": "stream",
          "text": [
            "Go to this URL in a browser: https://accounts.google.com/o/oauth2/auth?client_id=947318989803-6bn6qk8qdgf4n4g3pfee6491hc0brc4i.apps.googleusercontent.com&redirect_uri=urn%3aietf%3awg%3aoauth%3a2.0%3aoob&response_type=code&scope=email%20https%3a%2f%2fwww.googleapis.com%2fauth%2fdocs.test%20https%3a%2f%2fwww.googleapis.com%2fauth%2fdrive%20https%3a%2f%2fwww.googleapis.com%2fauth%2fdrive.photos.readonly%20https%3a%2f%2fwww.googleapis.com%2fauth%2fpeopleapi.readonly\n",
            "\n",
            "Enter your authorization code:\n",
            "··········\n",
            "Mounted at drive\n"
          ],
          "name": "stdout"
        }
      ]
    },
    {
      "cell_type": "code",
      "metadata": {
        "id": "d9lwVNS5TVMM",
        "colab_type": "code",
        "colab": {}
      },
      "source": [
        "#training googlenews model\n",
        "filename = 'drive/My Drive/ML Project/folder/GoogleNews-vectors-negative300.bin.gz'\n",
        "model = KeyedVectors.load_word2vec_format(filename, binary=True)"
      ],
      "execution_count": null,
      "outputs": []
    },
    {
      "cell_type": "code",
      "metadata": {
        "id": "C47npW6MUEUc",
        "colab_type": "code",
        "colab": {}
      },
      "source": [
        "#testing model\n",
        "result = model.most_similar(positive=['woman', 'king'], negative=['man'], topn=1)\n",
        "print(result)"
      ],
      "execution_count": null,
      "outputs": []
    },
    {
      "cell_type": "code",
      "metadata": {
        "id": "YDbdWLMU6vlB",
        "colab_type": "code",
        "colab": {}
      },
      "source": [
        "def cleanData (Data):\n",
        "\n",
        "    string = \"!@&*~`<>#$,.?-_/\\*%=+|;:(){}1234567890\"\n",
        "    stopwords = np.loadtxt('drive/My Drive/ML Project/stopwords.txt',dtype='str')\n",
        "    #clean all the tweets one by one\n",
        "    for i in range(Data.shape[0]):\n",
        "        \n",
        "        row = Data.iloc[i,1]\n",
        "        #print(row)\n",
        "        row = row.lower()\n",
        "        #delete all the characters in string\n",
        "        for char in string:\n",
        "            row = row.replace(char,\" \")\n",
        "        row = row.replace('\"',\" \")\n",
        "        row = row.replace('“',\" \")\n",
        "        row = row.replace('”',\" \")\n",
        "        row = row.replace(\"'\",\" \")\n",
        "        #removing all stop words\n",
        "        headline = row.split()\n",
        "        resultwords  = [word for word in headline if word.lower() not in stopwords]\n",
        "        row = ' '.join(resultwords)\n",
        "        #print(row)\n",
        "        #print(\"*******************************************************************\")\n",
        "\n",
        "        #saving cleaned data to headline column\n",
        "        Data.iloc[i,1] = row\n",
        "\n",
        "    return Data"
      ],
      "execution_count": null,
      "outputs": []
    },
    {
      "cell_type": "code",
      "metadata": {
        "id": "NcaFq8gB7M3e",
        "colab_type": "code",
        "colab": {}
      },
      "source": [
        "df = pd.read_csv('drive/My Drive/ML Project/train.txt',sep='\\t')"
      ],
      "execution_count": null,
      "outputs": []
    },
    {
      "cell_type": "code",
      "metadata": {
        "id": "kaEvAlKwB75O",
        "colab_type": "code",
        "colab": {}
      },
      "source": [
        "df= df.astype('str')\n",
        "Data = pd.DataFrame(data=np.empty((df.shape[0])),columns=['empty'])"
      ],
      "execution_count": null,
      "outputs": []
    },
    {
      "cell_type": "code",
      "metadata": {
        "id": "ZElkSIE6-Z1F",
        "colab_type": "code",
        "colab": {}
      },
      "source": [
        "Data['labels'] = df.iloc[:,0].str[0]\n",
        "Data['headlines'] = df.iloc[:,0].str[2:]"
      ],
      "execution_count": null,
      "outputs": []
    },
    {
      "cell_type": "code",
      "metadata": {
        "id": "pmS2ZnGng_Dk",
        "colab_type": "code",
        "colab": {
          "base_uri": "https://localhost:8080/",
          "height": 111
        },
        "outputId": "e7978f8b-4bc0-4565-d77a-9f30ae3a1636"
      },
      "source": [
        "Data.head(2)"
      ],
      "execution_count": null,
      "outputs": [
        {
          "output_type": "execute_result",
          "data": {
            "text/html": [
              "<div>\n",
              "<style scoped>\n",
              "    .dataframe tbody tr th:only-of-type {\n",
              "        vertical-align: middle;\n",
              "    }\n",
              "\n",
              "    .dataframe tbody tr th {\n",
              "        vertical-align: top;\n",
              "    }\n",
              "\n",
              "    .dataframe thead th {\n",
              "        text-align: right;\n",
              "    }\n",
              "</style>\n",
              "<table border=\"1\" class=\"dataframe\">\n",
              "  <thead>\n",
              "    <tr style=\"text-align: right;\">\n",
              "      <th></th>\n",
              "      <th>empty</th>\n",
              "      <th>labels</th>\n",
              "      <th>headlines</th>\n",
              "    </tr>\n",
              "  </thead>\n",
              "  <tbody>\n",
              "    <tr>\n",
              "      <th>0</th>\n",
              "      <td>0.000000e+00</td>\n",
              "      <td>1</td>\n",
              "      <td>increasingly paranoid campbell's begins stockp...</td>\n",
              "    </tr>\n",
              "    <tr>\n",
              "      <th>1</th>\n",
              "      <td>6.921237e-310</td>\n",
              "      <td>1</td>\n",
              "      <td>monster truck escapes</td>\n",
              "    </tr>\n",
              "  </tbody>\n",
              "</table>\n",
              "</div>"
            ],
            "text/plain": [
              "           empty labels                                          headlines\n",
              "0   0.000000e+00      1  increasingly paranoid campbell's begins stockp...\n",
              "1  6.921237e-310      1                              monster truck escapes"
            ]
          },
          "metadata": {
            "tags": []
          },
          "execution_count": 8
        }
      ]
    },
    {
      "cell_type": "code",
      "metadata": {
        "id": "CWNfEcp7CTi9",
        "colab_type": "code",
        "colab": {}
      },
      "source": [
        "Data = Data.drop('empty',axis=1)"
      ],
      "execution_count": null,
      "outputs": []
    },
    {
      "cell_type": "code",
      "metadata": {
        "id": "USD36kmSiJjy",
        "colab_type": "code",
        "colab": {
          "base_uri": "https://localhost:8080/",
          "height": 204
        },
        "outputId": "0996a05b-06cd-4518-83ed-e23791e2dd9a"
      },
      "source": [
        "Data.head(5)"
      ],
      "execution_count": null,
      "outputs": [
        {
          "output_type": "execute_result",
          "data": {
            "text/html": [
              "<div>\n",
              "<style scoped>\n",
              "    .dataframe tbody tr th:only-of-type {\n",
              "        vertical-align: middle;\n",
              "    }\n",
              "\n",
              "    .dataframe tbody tr th {\n",
              "        vertical-align: top;\n",
              "    }\n",
              "\n",
              "    .dataframe thead th {\n",
              "        text-align: right;\n",
              "    }\n",
              "</style>\n",
              "<table border=\"1\" class=\"dataframe\">\n",
              "  <thead>\n",
              "    <tr style=\"text-align: right;\">\n",
              "      <th></th>\n",
              "      <th>labels</th>\n",
              "      <th>headlines</th>\n",
              "    </tr>\n",
              "  </thead>\n",
              "  <tbody>\n",
              "    <tr>\n",
              "      <th>0</th>\n",
              "      <td>1</td>\n",
              "      <td>increasingly paranoid campbell's begins stockp...</td>\n",
              "    </tr>\n",
              "    <tr>\n",
              "      <th>1</th>\n",
              "      <td>1</td>\n",
              "      <td>monster truck escapes</td>\n",
              "    </tr>\n",
              "    <tr>\n",
              "      <th>2</th>\n",
              "      <td>0</td>\n",
              "      <td>sunday roundup</td>\n",
              "    </tr>\n",
              "    <tr>\n",
              "      <th>3</th>\n",
              "      <td>1</td>\n",
              "      <td>birthday card for david axelrod circling aroun...</td>\n",
              "    </tr>\n",
              "    <tr>\n",
              "      <th>4</th>\n",
              "      <td>0</td>\n",
              "      <td>morocco cracks down on journalists</td>\n",
              "    </tr>\n",
              "  </tbody>\n",
              "</table>\n",
              "</div>"
            ],
            "text/plain": [
              "  labels                                          headlines\n",
              "0      1  increasingly paranoid campbell's begins stockp...\n",
              "1      1                              monster truck escapes\n",
              "2      0                                     sunday roundup\n",
              "3      1  birthday card for david axelrod circling aroun...\n",
              "4      0                 morocco cracks down on journalists"
            ]
          },
          "metadata": {
            "tags": []
          },
          "execution_count": 10
        }
      ]
    },
    {
      "cell_type": "code",
      "metadata": {
        "id": "6egvcm-KE16Y",
        "colab_type": "code",
        "colab": {
          "base_uri": "https://localhost:8080/",
          "height": 204
        },
        "outputId": "f670179b-6339-4e93-c3e5-5fd675ddfb9f"
      },
      "source": [
        "cleanedData = cleanData(Data)\n",
        "cleanedData.head(5)"
      ],
      "execution_count": null,
      "outputs": [
        {
          "output_type": "execute_result",
          "data": {
            "text/html": [
              "<div>\n",
              "<style scoped>\n",
              "    .dataframe tbody tr th:only-of-type {\n",
              "        vertical-align: middle;\n",
              "    }\n",
              "\n",
              "    .dataframe tbody tr th {\n",
              "        vertical-align: top;\n",
              "    }\n",
              "\n",
              "    .dataframe thead th {\n",
              "        text-align: right;\n",
              "    }\n",
              "</style>\n",
              "<table border=\"1\" class=\"dataframe\">\n",
              "  <thead>\n",
              "    <tr style=\"text-align: right;\">\n",
              "      <th></th>\n",
              "      <th>labels</th>\n",
              "      <th>headlines</th>\n",
              "    </tr>\n",
              "  </thead>\n",
              "  <tbody>\n",
              "    <tr>\n",
              "      <th>0</th>\n",
              "      <td>1</td>\n",
              "      <td>increasingly paranoid campbell s begins stockp...</td>\n",
              "    </tr>\n",
              "    <tr>\n",
              "      <th>1</th>\n",
              "      <td>1</td>\n",
              "      <td>monster truck escapes</td>\n",
              "    </tr>\n",
              "    <tr>\n",
              "      <th>2</th>\n",
              "      <td>0</td>\n",
              "      <td>sunday roundup</td>\n",
              "    </tr>\n",
              "    <tr>\n",
              "      <th>3</th>\n",
              "      <td>1</td>\n",
              "      <td>birthday card david axelrod circling around af...</td>\n",
              "    </tr>\n",
              "    <tr>\n",
              "      <th>4</th>\n",
              "      <td>0</td>\n",
              "      <td>morocco cracks journalists</td>\n",
              "    </tr>\n",
              "  </tbody>\n",
              "</table>\n",
              "</div>"
            ],
            "text/plain": [
              "  labels                                          headlines\n",
              "0      1  increasingly paranoid campbell s begins stockp...\n",
              "1      1                              monster truck escapes\n",
              "2      0                                     sunday roundup\n",
              "3      1  birthday card david axelrod circling around af...\n",
              "4      0                         morocco cracks journalists"
            ]
          },
          "metadata": {
            "tags": []
          },
          "execution_count": 11
        }
      ]
    },
    {
      "cell_type": "code",
      "metadata": {
        "id": "2qYqG1U3Wqd4",
        "colab_type": "code",
        "colab": {}
      },
      "source": [
        "#return processed data and indexes of headlines with no word in model\n",
        "def preprocessing(Data):\n",
        "\n",
        "  X = pd.DataFrame(data=np.zeros((Data.shape[0],300)))\n",
        "  mean = 0\n",
        "  count = 0\n",
        "  indexes = []\n",
        "\n",
        "  for x in range(Data.shape[0]):\n",
        "\n",
        "    headline = Data.iloc[x,1]\n",
        "    words = headline.split()\n",
        "    mean =0\n",
        "    for word in words:\n",
        "      try:\n",
        "        value = model[word]\n",
        "      except:\n",
        "        value = 0\n",
        "      mean = mean + value\n",
        "    try:\n",
        "      if mean == 0:\n",
        "        count+=1\n",
        "        indexes.append(x)\n",
        "    except:\n",
        "      pass\n",
        "    X.iloc[x,:] = mean\n",
        "  print('No of headlines with no word in model=',count)\n",
        "\n",
        "  return X, indexes\n",
        "  "
      ],
      "execution_count": null,
      "outputs": []
    },
    {
      "cell_type": "code",
      "metadata": {
        "id": "lahyPJ1SdSDn",
        "colab_type": "code",
        "colab": {
          "base_uri": "https://localhost:8080/",
          "height": 68
        },
        "outputId": "a06f21b4-671d-4bb6-eff7-1ea5ed751025"
      },
      "source": [
        "#return processed data and indexes of headlines with no word in model\n",
        "X, indexes = preprocessing(cleanedData)\n",
        "print(X.shape)\n",
        "print(len(indexes))"
      ],
      "execution_count": null,
      "outputs": [
        {
          "output_type": "stream",
          "text": [
            "No of headlines with no word in model= 3\n",
            "(22891, 300)\n",
            "3\n"
          ],
          "name": "stdout"
        }
      ]
    },
    {
      "cell_type": "code",
      "metadata": {
        "id": "2gwMh6AYrss9",
        "colab_type": "code",
        "colab": {
          "base_uri": "https://localhost:8080/",
          "height": 119
        },
        "outputId": "2509d8a7-4b4b-46c6-e6e9-d7019544a043"
      },
      "source": [
        "#removing 3 headlines which are not in our model\n",
        "print(cleanedData.iloc[indexes[0],1])\n",
        "print(cleanedData.iloc[indexes[1],1])\n",
        "print(cleanedData.iloc[indexes[2],1])\n",
        "cleanedData = cleanedData.drop(cleanedData.index[[indexes[0],indexes[1],indexes[2]]])\n",
        "print(cleanedData.iloc[indexes[0],1])\n",
        "print(cleanedData.iloc[indexes[1],1])\n",
        "print(cleanedData.iloc[indexes[2],1])"
      ],
      "execution_count": null,
      "outputs": [
        {
          "output_type": "stream",
          "text": [
            "yazidi\n",
            "charlottesville\n",
            "\n",
            "ncis cease print edition\n",
            "genetics emphatically deny playing part area man s body\n",
            "bakery s closing nets man ton free éclairs\n"
          ],
          "name": "stdout"
        }
      ]
    },
    {
      "cell_type": "code",
      "metadata": {
        "id": "O2dJbrXNHuxc",
        "colab_type": "code",
        "colab": {
          "base_uri": "https://localhost:8080/",
          "height": 119
        },
        "outputId": "b7082b4a-9238-4720-9fe3-f31047741300"
      },
      "source": [
        "#removing 3 headlines vector from X, which are not in our model\n",
        "print(sum(X.iloc[indexes[0],:]))\n",
        "print(sum(X.iloc[indexes[1],:]))\n",
        "print(sum(X.iloc[indexes[2],:]))\n",
        "X = X.drop(X.index[[indexes[0],indexes[1],indexes[2]]])\n",
        "print(sum(X.iloc[indexes[0],:]))\n",
        "print(sum(X.iloc[indexes[1],:]))\n",
        "print(sum(X.iloc[indexes[2],:]))"
      ],
      "execution_count": null,
      "outputs": [
        {
          "output_type": "stream",
          "text": [
            "0.0\n",
            "0.0\n",
            "0.0\n",
            "9.010892868041992\n",
            "-2.6740379333496094\n",
            "-15.83795690536499\n"
          ],
          "name": "stdout"
        }
      ]
    },
    {
      "cell_type": "code",
      "metadata": {
        "id": "tgeZlhL0ltsZ",
        "colab_type": "code",
        "colab": {}
      },
      "source": [
        "Y = cleanedData.loc[:,'labels']\n"
      ],
      "execution_count": null,
      "outputs": []
    },
    {
      "cell_type": "code",
      "metadata": {
        "id": "aP4eXenmm8kh",
        "colab_type": "code",
        "colab": {
          "base_uri": "https://localhost:8080/",
          "height": 253
        },
        "outputId": "c9e2971c-bf47-448b-e80f-4ee86ad0fe1f"
      },
      "source": [
        "X.head()"
      ],
      "execution_count": null,
      "outputs": [
        {
          "output_type": "execute_result",
          "data": {
            "text/html": [
              "<div>\n",
              "<style scoped>\n",
              "    .dataframe tbody tr th:only-of-type {\n",
              "        vertical-align: middle;\n",
              "    }\n",
              "\n",
              "    .dataframe tbody tr th {\n",
              "        vertical-align: top;\n",
              "    }\n",
              "\n",
              "    .dataframe thead th {\n",
              "        text-align: right;\n",
              "    }\n",
              "</style>\n",
              "<table border=\"1\" class=\"dataframe\">\n",
              "  <thead>\n",
              "    <tr style=\"text-align: right;\">\n",
              "      <th></th>\n",
              "      <th>0</th>\n",
              "      <th>1</th>\n",
              "      <th>2</th>\n",
              "      <th>3</th>\n",
              "      <th>4</th>\n",
              "      <th>5</th>\n",
              "      <th>6</th>\n",
              "      <th>7</th>\n",
              "      <th>8</th>\n",
              "      <th>9</th>\n",
              "      <th>10</th>\n",
              "      <th>11</th>\n",
              "      <th>12</th>\n",
              "      <th>13</th>\n",
              "      <th>14</th>\n",
              "      <th>15</th>\n",
              "      <th>16</th>\n",
              "      <th>17</th>\n",
              "      <th>18</th>\n",
              "      <th>19</th>\n",
              "      <th>20</th>\n",
              "      <th>21</th>\n",
              "      <th>22</th>\n",
              "      <th>23</th>\n",
              "      <th>24</th>\n",
              "      <th>25</th>\n",
              "      <th>26</th>\n",
              "      <th>27</th>\n",
              "      <th>28</th>\n",
              "      <th>29</th>\n",
              "      <th>30</th>\n",
              "      <th>31</th>\n",
              "      <th>32</th>\n",
              "      <th>33</th>\n",
              "      <th>34</th>\n",
              "      <th>35</th>\n",
              "      <th>36</th>\n",
              "      <th>37</th>\n",
              "      <th>38</th>\n",
              "      <th>39</th>\n",
              "      <th>...</th>\n",
              "      <th>260</th>\n",
              "      <th>261</th>\n",
              "      <th>262</th>\n",
              "      <th>263</th>\n",
              "      <th>264</th>\n",
              "      <th>265</th>\n",
              "      <th>266</th>\n",
              "      <th>267</th>\n",
              "      <th>268</th>\n",
              "      <th>269</th>\n",
              "      <th>270</th>\n",
              "      <th>271</th>\n",
              "      <th>272</th>\n",
              "      <th>273</th>\n",
              "      <th>274</th>\n",
              "      <th>275</th>\n",
              "      <th>276</th>\n",
              "      <th>277</th>\n",
              "      <th>278</th>\n",
              "      <th>279</th>\n",
              "      <th>280</th>\n",
              "      <th>281</th>\n",
              "      <th>282</th>\n",
              "      <th>283</th>\n",
              "      <th>284</th>\n",
              "      <th>285</th>\n",
              "      <th>286</th>\n",
              "      <th>287</th>\n",
              "      <th>288</th>\n",
              "      <th>289</th>\n",
              "      <th>290</th>\n",
              "      <th>291</th>\n",
              "      <th>292</th>\n",
              "      <th>293</th>\n",
              "      <th>294</th>\n",
              "      <th>295</th>\n",
              "      <th>296</th>\n",
              "      <th>297</th>\n",
              "      <th>298</th>\n",
              "      <th>299</th>\n",
              "    </tr>\n",
              "  </thead>\n",
              "  <tbody>\n",
              "    <tr>\n",
              "      <th>0</th>\n",
              "      <td>0.073730</td>\n",
              "      <td>0.819702</td>\n",
              "      <td>0.252075</td>\n",
              "      <td>1.294189</td>\n",
              "      <td>-0.733063</td>\n",
              "      <td>0.781006</td>\n",
              "      <td>-0.676331</td>\n",
              "      <td>-0.635437</td>\n",
              "      <td>1.281738</td>\n",
              "      <td>0.150269</td>\n",
              "      <td>-0.556702</td>\n",
              "      <td>-0.977058</td>\n",
              "      <td>-0.007874</td>\n",
              "      <td>0.946518</td>\n",
              "      <td>-1.371506</td>\n",
              "      <td>0.800049</td>\n",
              "      <td>-0.151611</td>\n",
              "      <td>0.861572</td>\n",
              "      <td>0.397156</td>\n",
              "      <td>-1.469482</td>\n",
              "      <td>-0.215820</td>\n",
              "      <td>0.082031</td>\n",
              "      <td>0.322083</td>\n",
              "      <td>0.247513</td>\n",
              "      <td>1.438721</td>\n",
              "      <td>0.104889</td>\n",
              "      <td>0.517090</td>\n",
              "      <td>-0.237793</td>\n",
              "      <td>-0.266602</td>\n",
              "      <td>0.517532</td>\n",
              "      <td>0.338470</td>\n",
              "      <td>0.480408</td>\n",
              "      <td>-1.259338</td>\n",
              "      <td>-0.444901</td>\n",
              "      <td>-0.639832</td>\n",
              "      <td>0.441223</td>\n",
              "      <td>-0.579590</td>\n",
              "      <td>0.268524</td>\n",
              "      <td>0.743774</td>\n",
              "      <td>0.410889</td>\n",
              "      <td>...</td>\n",
              "      <td>0.060181</td>\n",
              "      <td>0.392822</td>\n",
              "      <td>-0.606445</td>\n",
              "      <td>-0.326782</td>\n",
              "      <td>-0.109619</td>\n",
              "      <td>1.292480</td>\n",
              "      <td>-0.783981</td>\n",
              "      <td>-0.012360</td>\n",
              "      <td>-0.480957</td>\n",
              "      <td>-0.442261</td>\n",
              "      <td>-0.161865</td>\n",
              "      <td>1.127319</td>\n",
              "      <td>1.572723</td>\n",
              "      <td>0.738037</td>\n",
              "      <td>0.720703</td>\n",
              "      <td>-0.647461</td>\n",
              "      <td>-0.390747</td>\n",
              "      <td>0.391357</td>\n",
              "      <td>0.348877</td>\n",
              "      <td>1.662750</td>\n",
              "      <td>0.243042</td>\n",
              "      <td>-0.150391</td>\n",
              "      <td>0.523254</td>\n",
              "      <td>-0.109436</td>\n",
              "      <td>0.027939</td>\n",
              "      <td>0.186218</td>\n",
              "      <td>-0.837662</td>\n",
              "      <td>0.178467</td>\n",
              "      <td>0.909271</td>\n",
              "      <td>0.561279</td>\n",
              "      <td>-0.433594</td>\n",
              "      <td>-0.712891</td>\n",
              "      <td>-0.706543</td>\n",
              "      <td>0.972290</td>\n",
              "      <td>-0.225098</td>\n",
              "      <td>-1.926758</td>\n",
              "      <td>-0.140869</td>\n",
              "      <td>0.036255</td>\n",
              "      <td>0.759980</td>\n",
              "      <td>0.978638</td>\n",
              "    </tr>\n",
              "    <tr>\n",
              "      <th>1</th>\n",
              "      <td>0.316406</td>\n",
              "      <td>0.380737</td>\n",
              "      <td>-0.422073</td>\n",
              "      <td>0.101318</td>\n",
              "      <td>0.222900</td>\n",
              "      <td>-0.194336</td>\n",
              "      <td>-0.197998</td>\n",
              "      <td>-0.382568</td>\n",
              "      <td>0.574707</td>\n",
              "      <td>0.073730</td>\n",
              "      <td>0.060303</td>\n",
              "      <td>-0.641602</td>\n",
              "      <td>0.151855</td>\n",
              "      <td>-0.441162</td>\n",
              "      <td>-0.246338</td>\n",
              "      <td>0.011719</td>\n",
              "      <td>-0.295532</td>\n",
              "      <td>0.295654</td>\n",
              "      <td>0.266113</td>\n",
              "      <td>-0.303589</td>\n",
              "      <td>0.242188</td>\n",
              "      <td>0.208008</td>\n",
              "      <td>-0.020020</td>\n",
              "      <td>0.389648</td>\n",
              "      <td>0.584961</td>\n",
              "      <td>-0.567139</td>\n",
              "      <td>-0.004883</td>\n",
              "      <td>0.304810</td>\n",
              "      <td>0.610352</td>\n",
              "      <td>-0.301270</td>\n",
              "      <td>0.071533</td>\n",
              "      <td>-0.268066</td>\n",
              "      <td>-0.120117</td>\n",
              "      <td>0.559570</td>\n",
              "      <td>-0.498230</td>\n",
              "      <td>-0.041504</td>\n",
              "      <td>0.550537</td>\n",
              "      <td>0.183685</td>\n",
              "      <td>-0.103760</td>\n",
              "      <td>0.163086</td>\n",
              "      <td>...</td>\n",
              "      <td>-0.086243</td>\n",
              "      <td>-0.163574</td>\n",
              "      <td>-0.315186</td>\n",
              "      <td>0.344177</td>\n",
              "      <td>0.314941</td>\n",
              "      <td>0.227051</td>\n",
              "      <td>-0.502930</td>\n",
              "      <td>0.473495</td>\n",
              "      <td>-0.388672</td>\n",
              "      <td>0.456543</td>\n",
              "      <td>-0.318909</td>\n",
              "      <td>-0.166016</td>\n",
              "      <td>0.284180</td>\n",
              "      <td>0.010498</td>\n",
              "      <td>0.037842</td>\n",
              "      <td>-0.016968</td>\n",
              "      <td>-0.122681</td>\n",
              "      <td>-0.159180</td>\n",
              "      <td>0.197632</td>\n",
              "      <td>0.217285</td>\n",
              "      <td>-0.187744</td>\n",
              "      <td>-0.140747</td>\n",
              "      <td>0.043015</td>\n",
              "      <td>-0.188232</td>\n",
              "      <td>0.095459</td>\n",
              "      <td>-0.134232</td>\n",
              "      <td>-0.264648</td>\n",
              "      <td>-0.118179</td>\n",
              "      <td>-0.028687</td>\n",
              "      <td>0.057617</td>\n",
              "      <td>-0.585938</td>\n",
              "      <td>-0.046143</td>\n",
              "      <td>-0.410400</td>\n",
              "      <td>0.281738</td>\n",
              "      <td>-0.588379</td>\n",
              "      <td>-0.169434</td>\n",
              "      <td>-0.367065</td>\n",
              "      <td>-0.240234</td>\n",
              "      <td>-0.251373</td>\n",
              "      <td>-0.262695</td>\n",
              "    </tr>\n",
              "    <tr>\n",
              "      <th>2</th>\n",
              "      <td>-0.216309</td>\n",
              "      <td>0.288651</td>\n",
              "      <td>-0.267090</td>\n",
              "      <td>0.143982</td>\n",
              "      <td>0.218750</td>\n",
              "      <td>-0.507080</td>\n",
              "      <td>-0.018311</td>\n",
              "      <td>-0.373047</td>\n",
              "      <td>0.081299</td>\n",
              "      <td>0.385742</td>\n",
              "      <td>-0.666992</td>\n",
              "      <td>-0.340820</td>\n",
              "      <td>-0.394043</td>\n",
              "      <td>-0.013672</td>\n",
              "      <td>-0.078369</td>\n",
              "      <td>0.005859</td>\n",
              "      <td>-0.370361</td>\n",
              "      <td>0.162354</td>\n",
              "      <td>0.549805</td>\n",
              "      <td>-0.647461</td>\n",
              "      <td>0.438477</td>\n",
              "      <td>0.190796</td>\n",
              "      <td>0.055664</td>\n",
              "      <td>-0.016113</td>\n",
              "      <td>-0.222656</td>\n",
              "      <td>0.096191</td>\n",
              "      <td>0.222656</td>\n",
              "      <td>0.419434</td>\n",
              "      <td>-0.158447</td>\n",
              "      <td>0.005127</td>\n",
              "      <td>0.110596</td>\n",
              "      <td>0.081787</td>\n",
              "      <td>0.325684</td>\n",
              "      <td>-0.326172</td>\n",
              "      <td>0.084473</td>\n",
              "      <td>0.398438</td>\n",
              "      <td>-0.294922</td>\n",
              "      <td>-0.199585</td>\n",
              "      <td>0.560547</td>\n",
              "      <td>0.463379</td>\n",
              "      <td>...</td>\n",
              "      <td>0.208130</td>\n",
              "      <td>-0.013672</td>\n",
              "      <td>0.369629</td>\n",
              "      <td>0.052246</td>\n",
              "      <td>-0.022949</td>\n",
              "      <td>0.243652</td>\n",
              "      <td>-0.085938</td>\n",
              "      <td>0.139404</td>\n",
              "      <td>-0.125488</td>\n",
              "      <td>0.484863</td>\n",
              "      <td>-0.309082</td>\n",
              "      <td>0.190918</td>\n",
              "      <td>0.238770</td>\n",
              "      <td>0.326660</td>\n",
              "      <td>0.340820</td>\n",
              "      <td>-0.398926</td>\n",
              "      <td>0.064331</td>\n",
              "      <td>-0.344727</td>\n",
              "      <td>-0.112183</td>\n",
              "      <td>0.683594</td>\n",
              "      <td>-0.034668</td>\n",
              "      <td>0.018646</td>\n",
              "      <td>0.088989</td>\n",
              "      <td>0.720703</td>\n",
              "      <td>-0.108032</td>\n",
              "      <td>-0.514648</td>\n",
              "      <td>-0.312622</td>\n",
              "      <td>0.557617</td>\n",
              "      <td>-0.038086</td>\n",
              "      <td>-0.035156</td>\n",
              "      <td>0.653320</td>\n",
              "      <td>-0.248779</td>\n",
              "      <td>0.076172</td>\n",
              "      <td>0.479980</td>\n",
              "      <td>-0.031128</td>\n",
              "      <td>0.017578</td>\n",
              "      <td>-0.414307</td>\n",
              "      <td>-0.164062</td>\n",
              "      <td>-0.317383</td>\n",
              "      <td>0.365112</td>\n",
              "    </tr>\n",
              "    <tr>\n",
              "      <th>3</th>\n",
              "      <td>-0.564453</td>\n",
              "      <td>0.799683</td>\n",
              "      <td>-0.086670</td>\n",
              "      <td>1.522217</td>\n",
              "      <td>-0.766113</td>\n",
              "      <td>-0.355713</td>\n",
              "      <td>0.226318</td>\n",
              "      <td>-1.685791</td>\n",
              "      <td>0.572998</td>\n",
              "      <td>0.652588</td>\n",
              "      <td>0.109283</td>\n",
              "      <td>-1.041992</td>\n",
              "      <td>-0.635254</td>\n",
              "      <td>0.028015</td>\n",
              "      <td>-0.418213</td>\n",
              "      <td>-0.066315</td>\n",
              "      <td>-0.526123</td>\n",
              "      <td>0.835938</td>\n",
              "      <td>-0.039429</td>\n",
              "      <td>-1.208008</td>\n",
              "      <td>0.384216</td>\n",
              "      <td>0.934723</td>\n",
              "      <td>0.574463</td>\n",
              "      <td>-0.406128</td>\n",
              "      <td>-0.095947</td>\n",
              "      <td>0.386963</td>\n",
              "      <td>-1.354614</td>\n",
              "      <td>0.509766</td>\n",
              "      <td>0.696777</td>\n",
              "      <td>-0.920105</td>\n",
              "      <td>-0.001953</td>\n",
              "      <td>-0.420389</td>\n",
              "      <td>-0.094330</td>\n",
              "      <td>-0.745209</td>\n",
              "      <td>-0.384033</td>\n",
              "      <td>-0.104614</td>\n",
              "      <td>0.594635</td>\n",
              "      <td>-0.106934</td>\n",
              "      <td>-0.009399</td>\n",
              "      <td>0.062775</td>\n",
              "      <td>...</td>\n",
              "      <td>-0.821411</td>\n",
              "      <td>-0.194077</td>\n",
              "      <td>-0.160828</td>\n",
              "      <td>-1.133301</td>\n",
              "      <td>-0.794678</td>\n",
              "      <td>0.538818</td>\n",
              "      <td>-0.021118</td>\n",
              "      <td>0.099426</td>\n",
              "      <td>-0.757812</td>\n",
              "      <td>0.235046</td>\n",
              "      <td>0.105062</td>\n",
              "      <td>0.115723</td>\n",
              "      <td>0.385010</td>\n",
              "      <td>0.176025</td>\n",
              "      <td>1.259766</td>\n",
              "      <td>-0.680542</td>\n",
              "      <td>-0.264282</td>\n",
              "      <td>-0.568237</td>\n",
              "      <td>-1.536865</td>\n",
              "      <td>0.689087</td>\n",
              "      <td>-0.199463</td>\n",
              "      <td>-0.154068</td>\n",
              "      <td>-0.454834</td>\n",
              "      <td>0.665955</td>\n",
              "      <td>-0.249146</td>\n",
              "      <td>0.335571</td>\n",
              "      <td>-0.607300</td>\n",
              "      <td>0.548279</td>\n",
              "      <td>0.766980</td>\n",
              "      <td>0.477554</td>\n",
              "      <td>-0.721863</td>\n",
              "      <td>0.067627</td>\n",
              "      <td>-0.603027</td>\n",
              "      <td>0.523926</td>\n",
              "      <td>0.160767</td>\n",
              "      <td>-1.221191</td>\n",
              "      <td>-0.605042</td>\n",
              "      <td>0.078766</td>\n",
              "      <td>-0.946289</td>\n",
              "      <td>0.568359</td>\n",
              "    </tr>\n",
              "    <tr>\n",
              "      <th>4</th>\n",
              "      <td>-0.149399</td>\n",
              "      <td>0.291626</td>\n",
              "      <td>-0.256714</td>\n",
              "      <td>0.146240</td>\n",
              "      <td>-0.306000</td>\n",
              "      <td>-0.014526</td>\n",
              "      <td>-0.152313</td>\n",
              "      <td>-0.293701</td>\n",
              "      <td>0.109009</td>\n",
              "      <td>0.254883</td>\n",
              "      <td>-0.227051</td>\n",
              "      <td>-0.125671</td>\n",
              "      <td>0.036865</td>\n",
              "      <td>0.187012</td>\n",
              "      <td>-0.536133</td>\n",
              "      <td>-0.082581</td>\n",
              "      <td>0.090332</td>\n",
              "      <td>0.226562</td>\n",
              "      <td>-0.421875</td>\n",
              "      <td>-0.052948</td>\n",
              "      <td>0.590088</td>\n",
              "      <td>-0.078613</td>\n",
              "      <td>0.124512</td>\n",
              "      <td>-0.386963</td>\n",
              "      <td>0.593750</td>\n",
              "      <td>-0.455261</td>\n",
              "      <td>0.219360</td>\n",
              "      <td>0.375000</td>\n",
              "      <td>0.173828</td>\n",
              "      <td>-0.548279</td>\n",
              "      <td>-0.677734</td>\n",
              "      <td>-0.073975</td>\n",
              "      <td>-0.174805</td>\n",
              "      <td>0.323242</td>\n",
              "      <td>0.000488</td>\n",
              "      <td>-0.111572</td>\n",
              "      <td>-0.056519</td>\n",
              "      <td>0.644531</td>\n",
              "      <td>0.023193</td>\n",
              "      <td>0.230804</td>\n",
              "      <td>...</td>\n",
              "      <td>-0.130249</td>\n",
              "      <td>-0.027832</td>\n",
              "      <td>0.267975</td>\n",
              "      <td>-0.099609</td>\n",
              "      <td>-0.189209</td>\n",
              "      <td>0.381836</td>\n",
              "      <td>-0.186279</td>\n",
              "      <td>-0.221436</td>\n",
              "      <td>-0.261963</td>\n",
              "      <td>-0.155151</td>\n",
              "      <td>-0.139984</td>\n",
              "      <td>0.506836</td>\n",
              "      <td>0.316589</td>\n",
              "      <td>0.071970</td>\n",
              "      <td>0.393066</td>\n",
              "      <td>0.046875</td>\n",
              "      <td>0.441772</td>\n",
              "      <td>-0.383530</td>\n",
              "      <td>-0.238770</td>\n",
              "      <td>0.376465</td>\n",
              "      <td>-0.231934</td>\n",
              "      <td>-0.442631</td>\n",
              "      <td>0.384766</td>\n",
              "      <td>0.206543</td>\n",
              "      <td>0.304443</td>\n",
              "      <td>-0.811523</td>\n",
              "      <td>-0.498047</td>\n",
              "      <td>0.506836</td>\n",
              "      <td>-0.092041</td>\n",
              "      <td>0.217041</td>\n",
              "      <td>0.430420</td>\n",
              "      <td>-0.161621</td>\n",
              "      <td>-0.018311</td>\n",
              "      <td>0.039551</td>\n",
              "      <td>0.008057</td>\n",
              "      <td>0.346191</td>\n",
              "      <td>-0.226074</td>\n",
              "      <td>-0.151291</td>\n",
              "      <td>0.051514</td>\n",
              "      <td>0.178711</td>\n",
              "    </tr>\n",
              "  </tbody>\n",
              "</table>\n",
              "<p>5 rows × 300 columns</p>\n",
              "</div>"
            ],
            "text/plain": [
              "        0         1         2    ...       297       298       299\n",
              "0  0.073730  0.819702  0.252075  ...  0.036255  0.759980  0.978638\n",
              "1  0.316406  0.380737 -0.422073  ... -0.240234 -0.251373 -0.262695\n",
              "2 -0.216309  0.288651 -0.267090  ... -0.164062 -0.317383  0.365112\n",
              "3 -0.564453  0.799683 -0.086670  ...  0.078766 -0.946289  0.568359\n",
              "4 -0.149399  0.291626 -0.256714  ... -0.151291  0.051514  0.178711\n",
              "\n",
              "[5 rows x 300 columns]"
            ]
          },
          "metadata": {
            "tags": []
          },
          "execution_count": 17
        }
      ]
    },
    {
      "cell_type": "code",
      "metadata": {
        "id": "p1Ea2AVMnEF9",
        "colab_type": "code",
        "colab": {
          "base_uri": "https://localhost:8080/",
          "height": 34
        },
        "outputId": "83071b33-eba7-4e70-d7ec-d67aa420a8ac"
      },
      "source": [
        "X = X.to_numpy()\n",
        "Y = Y.to_numpy()\n",
        "Y = Y.astype(int)\n",
        "Y.dtype"
      ],
      "execution_count": null,
      "outputs": [
        {
          "output_type": "execute_result",
          "data": {
            "text/plain": [
              "dtype('int64')"
            ]
          },
          "metadata": {
            "tags": []
          },
          "execution_count": 18
        }
      ]
    },
    {
      "cell_type": "code",
      "metadata": {
        "id": "IxAq4JnfNXnR",
        "colab_type": "code",
        "colab": {
          "base_uri": "https://localhost:8080/",
          "height": 34
        },
        "outputId": "456725cb-5d6f-4c33-c7fe-a38df11e120b"
      },
      "source": [
        "print(Y[0:10])"
      ],
      "execution_count": null,
      "outputs": [
        {
          "output_type": "stream",
          "text": [
            "[1 1 0 1 0 0 1 1 0 1]\n"
          ],
          "name": "stdout"
        }
      ]
    },
    {
      "cell_type": "code",
      "metadata": {
        "colab_type": "code",
        "id": "u3bv4N0hE1vy",
        "colab": {}
      },
      "source": [
        "df = pd.read_csv('drive/My Drive/ML Project/test.txt',sep='\\t')"
      ],
      "execution_count": null,
      "outputs": []
    },
    {
      "cell_type": "code",
      "metadata": {
        "colab_type": "code",
        "id": "CnMJuUyZE1v6",
        "colab": {}
      },
      "source": [
        "df= df.astype('str')\n",
        "Data = pd.DataFrame(data=np.empty((df.shape[0])),columns=['empty'])"
      ],
      "execution_count": null,
      "outputs": []
    },
    {
      "cell_type": "code",
      "metadata": {
        "colab_type": "code",
        "id": "xxW_wLnIE1wC",
        "colab": {}
      },
      "source": [
        "Data['labels'] = df.iloc[:,0].str[0]\n",
        "Data['headlines'] = df.iloc[:,0].str[2:]"
      ],
      "execution_count": null,
      "outputs": []
    },
    {
      "cell_type": "code",
      "metadata": {
        "colab_type": "code",
        "id": "uZ71phT7E1wH",
        "colab": {
          "base_uri": "https://localhost:8080/",
          "height": 111
        },
        "outputId": "2558b562-8f15-41d0-ddc4-cf35c43e6b8e"
      },
      "source": [
        "Data.head(2)"
      ],
      "execution_count": null,
      "outputs": [
        {
          "output_type": "execute_result",
          "data": {
            "text/html": [
              "<div>\n",
              "<style scoped>\n",
              "    .dataframe tbody tr th:only-of-type {\n",
              "        vertical-align: middle;\n",
              "    }\n",
              "\n",
              "    .dataframe tbody tr th {\n",
              "        vertical-align: top;\n",
              "    }\n",
              "\n",
              "    .dataframe thead th {\n",
              "        text-align: right;\n",
              "    }\n",
              "</style>\n",
              "<table border=\"1\" class=\"dataframe\">\n",
              "  <thead>\n",
              "    <tr style=\"text-align: right;\">\n",
              "      <th></th>\n",
              "      <th>empty</th>\n",
              "      <th>labels</th>\n",
              "      <th>headlines</th>\n",
              "    </tr>\n",
              "  </thead>\n",
              "  <tbody>\n",
              "    <tr>\n",
              "      <th>0</th>\n",
              "      <td>0.000000e+00</td>\n",
              "      <td>0</td>\n",
              "      <td>an open letter to editors rejecting #metoo, #m...</td>\n",
              "    </tr>\n",
              "    <tr>\n",
              "      <th>1</th>\n",
              "      <td>6.921192e-310</td>\n",
              "      <td>1</td>\n",
              "      <td>group of christie campaign deserters found in ...</td>\n",
              "    </tr>\n",
              "  </tbody>\n",
              "</table>\n",
              "</div>"
            ],
            "text/plain": [
              "           empty labels                                          headlines\n",
              "0   0.000000e+00      0  an open letter to editors rejecting #metoo, #m...\n",
              "1  6.921192e-310      1  group of christie campaign deserters found in ..."
            ]
          },
          "metadata": {
            "tags": []
          },
          "execution_count": 23
        }
      ]
    },
    {
      "cell_type": "code",
      "metadata": {
        "colab_type": "code",
        "id": "DXazgS8CE1wP",
        "colab": {}
      },
      "source": [
        "Data = Data.drop('empty',axis=1)"
      ],
      "execution_count": null,
      "outputs": []
    },
    {
      "cell_type": "code",
      "metadata": {
        "colab_type": "code",
        "id": "Z8c58gXUE1wU",
        "colab": {
          "base_uri": "https://localhost:8080/",
          "height": 204
        },
        "outputId": "a8389a60-e8df-4a34-aa4c-e9b4a45e127b"
      },
      "source": [
        "Data.head(5)"
      ],
      "execution_count": null,
      "outputs": [
        {
          "output_type": "execute_result",
          "data": {
            "text/html": [
              "<div>\n",
              "<style scoped>\n",
              "    .dataframe tbody tr th:only-of-type {\n",
              "        vertical-align: middle;\n",
              "    }\n",
              "\n",
              "    .dataframe tbody tr th {\n",
              "        vertical-align: top;\n",
              "    }\n",
              "\n",
              "    .dataframe thead th {\n",
              "        text-align: right;\n",
              "    }\n",
              "</style>\n",
              "<table border=\"1\" class=\"dataframe\">\n",
              "  <thead>\n",
              "    <tr style=\"text-align: right;\">\n",
              "      <th></th>\n",
              "      <th>labels</th>\n",
              "      <th>headlines</th>\n",
              "    </tr>\n",
              "  </thead>\n",
              "  <tbody>\n",
              "    <tr>\n",
              "      <th>0</th>\n",
              "      <td>0</td>\n",
              "      <td>an open letter to editors rejecting #metoo, #m...</td>\n",
              "    </tr>\n",
              "    <tr>\n",
              "      <th>1</th>\n",
              "      <td>1</td>\n",
              "      <td>group of christie campaign deserters found in ...</td>\n",
              "    </tr>\n",
              "    <tr>\n",
              "      <th>2</th>\n",
              "      <td>0</td>\n",
              "      <td>noose found in african-american history museum...</td>\n",
              "    </tr>\n",
              "    <tr>\n",
              "      <th>3</th>\n",
              "      <td>1</td>\n",
              "      <td>democratic congressman protests trump's enviro...</td>\n",
              "    </tr>\n",
              "    <tr>\n",
              "      <th>4</th>\n",
              "      <td>0</td>\n",
              "      <td>rex tillerson calls reports of his ouster 'lau...</td>\n",
              "    </tr>\n",
              "  </tbody>\n",
              "</table>\n",
              "</div>"
            ],
            "text/plain": [
              "  labels                                          headlines\n",
              "0      0  an open letter to editors rejecting #metoo, #m...\n",
              "1      1  group of christie campaign deserters found in ...\n",
              "2      0  noose found in african-american history museum...\n",
              "3      1  democratic congressman protests trump's enviro...\n",
              "4      0  rex tillerson calls reports of his ouster 'lau..."
            ]
          },
          "metadata": {
            "tags": []
          },
          "execution_count": 25
        }
      ]
    },
    {
      "cell_type": "code",
      "metadata": {
        "colab_type": "code",
        "id": "uWXZAuCJE1wZ",
        "colab": {}
      },
      "source": [
        "testData = cleanData(Data)"
      ],
      "execution_count": null,
      "outputs": []
    },
    {
      "cell_type": "code",
      "metadata": {
        "colab_type": "code",
        "id": "bqJFEyEME1wh",
        "colab": {
          "base_uri": "https://localhost:8080/",
          "height": 204
        },
        "outputId": "7a8d2581-d419-4606-fb5e-8b206a9fba9d"
      },
      "source": [
        "testData.head(5)"
      ],
      "execution_count": null,
      "outputs": [
        {
          "output_type": "execute_result",
          "data": {
            "text/html": [
              "<div>\n",
              "<style scoped>\n",
              "    .dataframe tbody tr th:only-of-type {\n",
              "        vertical-align: middle;\n",
              "    }\n",
              "\n",
              "    .dataframe tbody tr th {\n",
              "        vertical-align: top;\n",
              "    }\n",
              "\n",
              "    .dataframe thead th {\n",
              "        text-align: right;\n",
              "    }\n",
              "</style>\n",
              "<table border=\"1\" class=\"dataframe\">\n",
              "  <thead>\n",
              "    <tr style=\"text-align: right;\">\n",
              "      <th></th>\n",
              "      <th>labels</th>\n",
              "      <th>headlines</th>\n",
              "    </tr>\n",
              "  </thead>\n",
              "  <tbody>\n",
              "    <tr>\n",
              "      <th>0</th>\n",
              "      <td>0</td>\n",
              "      <td>open letter editors rejecting metoo meat submi...</td>\n",
              "    </tr>\n",
              "    <tr>\n",
              "      <th>1</th>\n",
              "      <td>1</td>\n",
              "      <td>group christie campaign deserters found forest</td>\n",
              "    </tr>\n",
              "    <tr>\n",
              "      <th>2</th>\n",
              "      <td>0</td>\n",
              "      <td>noose found african american history museum ex...</td>\n",
              "    </tr>\n",
              "    <tr>\n",
              "      <th>3</th>\n",
              "      <td>1</td>\n",
              "      <td>democratic congressman protests trump s enviro...</td>\n",
              "    </tr>\n",
              "    <tr>\n",
              "      <th>4</th>\n",
              "      <td>0</td>\n",
              "      <td>rex tillerson calls reports ouster laughable</td>\n",
              "    </tr>\n",
              "  </tbody>\n",
              "</table>\n",
              "</div>"
            ],
            "text/plain": [
              "  labels                                          headlines\n",
              "0      0  open letter editors rejecting metoo meat submi...\n",
              "1      1     group christie campaign deserters found forest\n",
              "2      0  noose found african american history museum ex...\n",
              "3      1  democratic congressman protests trump s enviro...\n",
              "4      0       rex tillerson calls reports ouster laughable"
            ]
          },
          "metadata": {
            "tags": []
          },
          "execution_count": 28
        }
      ]
    },
    {
      "cell_type": "code",
      "metadata": {
        "id": "7YsfwdRyFU6y",
        "colab_type": "code",
        "colab": {
          "base_uri": "https://localhost:8080/",
          "height": 68
        },
        "outputId": "5e3aeacb-da1e-4af6-b458-139c72f943d9"
      },
      "source": [
        "#return processed data and indexes of headlines with no word in model\n",
        "X_test, indexes = preprocessing(testData)\n",
        "print(X_test.shape)\n",
        "print(len(indexes))"
      ],
      "execution_count": null,
      "outputs": [
        {
          "output_type": "stream",
          "text": [
            "No of headlines with no word in model= 0\n",
            "(5723, 300)\n",
            "0\n"
          ],
          "name": "stdout"
        }
      ]
    },
    {
      "cell_type": "code",
      "metadata": {
        "id": "GtDoGyKyGJJN",
        "colab_type": "code",
        "colab": {
          "base_uri": "https://localhost:8080/",
          "height": 253
        },
        "outputId": "d80d2a85-d096-4afa-a33b-93ee5ab44fdf"
      },
      "source": [
        "Y_test = testData.loc[:,'labels']\n",
        "X_test.head()"
      ],
      "execution_count": null,
      "outputs": [
        {
          "output_type": "execute_result",
          "data": {
            "text/html": [
              "<div>\n",
              "<style scoped>\n",
              "    .dataframe tbody tr th:only-of-type {\n",
              "        vertical-align: middle;\n",
              "    }\n",
              "\n",
              "    .dataframe tbody tr th {\n",
              "        vertical-align: top;\n",
              "    }\n",
              "\n",
              "    .dataframe thead th {\n",
              "        text-align: right;\n",
              "    }\n",
              "</style>\n",
              "<table border=\"1\" class=\"dataframe\">\n",
              "  <thead>\n",
              "    <tr style=\"text-align: right;\">\n",
              "      <th></th>\n",
              "      <th>0</th>\n",
              "      <th>1</th>\n",
              "      <th>2</th>\n",
              "      <th>3</th>\n",
              "      <th>4</th>\n",
              "      <th>5</th>\n",
              "      <th>6</th>\n",
              "      <th>7</th>\n",
              "      <th>8</th>\n",
              "      <th>9</th>\n",
              "      <th>10</th>\n",
              "      <th>11</th>\n",
              "      <th>12</th>\n",
              "      <th>13</th>\n",
              "      <th>14</th>\n",
              "      <th>15</th>\n",
              "      <th>16</th>\n",
              "      <th>17</th>\n",
              "      <th>18</th>\n",
              "      <th>19</th>\n",
              "      <th>20</th>\n",
              "      <th>21</th>\n",
              "      <th>22</th>\n",
              "      <th>23</th>\n",
              "      <th>24</th>\n",
              "      <th>25</th>\n",
              "      <th>26</th>\n",
              "      <th>27</th>\n",
              "      <th>28</th>\n",
              "      <th>29</th>\n",
              "      <th>30</th>\n",
              "      <th>31</th>\n",
              "      <th>32</th>\n",
              "      <th>33</th>\n",
              "      <th>34</th>\n",
              "      <th>35</th>\n",
              "      <th>36</th>\n",
              "      <th>37</th>\n",
              "      <th>38</th>\n",
              "      <th>39</th>\n",
              "      <th>...</th>\n",
              "      <th>260</th>\n",
              "      <th>261</th>\n",
              "      <th>262</th>\n",
              "      <th>263</th>\n",
              "      <th>264</th>\n",
              "      <th>265</th>\n",
              "      <th>266</th>\n",
              "      <th>267</th>\n",
              "      <th>268</th>\n",
              "      <th>269</th>\n",
              "      <th>270</th>\n",
              "      <th>271</th>\n",
              "      <th>272</th>\n",
              "      <th>273</th>\n",
              "      <th>274</th>\n",
              "      <th>275</th>\n",
              "      <th>276</th>\n",
              "      <th>277</th>\n",
              "      <th>278</th>\n",
              "      <th>279</th>\n",
              "      <th>280</th>\n",
              "      <th>281</th>\n",
              "      <th>282</th>\n",
              "      <th>283</th>\n",
              "      <th>284</th>\n",
              "      <th>285</th>\n",
              "      <th>286</th>\n",
              "      <th>287</th>\n",
              "      <th>288</th>\n",
              "      <th>289</th>\n",
              "      <th>290</th>\n",
              "      <th>291</th>\n",
              "      <th>292</th>\n",
              "      <th>293</th>\n",
              "      <th>294</th>\n",
              "      <th>295</th>\n",
              "      <th>296</th>\n",
              "      <th>297</th>\n",
              "      <th>298</th>\n",
              "      <th>299</th>\n",
              "    </tr>\n",
              "  </thead>\n",
              "  <tbody>\n",
              "    <tr>\n",
              "      <th>0</th>\n",
              "      <td>-1.112793</td>\n",
              "      <td>0.780029</td>\n",
              "      <td>0.455811</td>\n",
              "      <td>0.773682</td>\n",
              "      <td>0.039185</td>\n",
              "      <td>0.215210</td>\n",
              "      <td>0.074402</td>\n",
              "      <td>0.212738</td>\n",
              "      <td>0.817383</td>\n",
              "      <td>0.838867</td>\n",
              "      <td>-0.032227</td>\n",
              "      <td>-0.616882</td>\n",
              "      <td>-0.118103</td>\n",
              "      <td>0.157471</td>\n",
              "      <td>-0.435974</td>\n",
              "      <td>-0.208618</td>\n",
              "      <td>0.300903</td>\n",
              "      <td>-0.005371</td>\n",
              "      <td>-0.118973</td>\n",
              "      <td>-0.436371</td>\n",
              "      <td>1.641113</td>\n",
              "      <td>0.687256</td>\n",
              "      <td>-0.181030</td>\n",
              "      <td>-0.256836</td>\n",
              "      <td>0.750366</td>\n",
              "      <td>-0.671387</td>\n",
              "      <td>-0.129272</td>\n",
              "      <td>0.160278</td>\n",
              "      <td>0.532288</td>\n",
              "      <td>-0.926361</td>\n",
              "      <td>-0.078491</td>\n",
              "      <td>-0.885498</td>\n",
              "      <td>-0.621826</td>\n",
              "      <td>0.164429</td>\n",
              "      <td>0.332764</td>\n",
              "      <td>0.255859</td>\n",
              "      <td>0.661987</td>\n",
              "      <td>0.961792</td>\n",
              "      <td>-0.218018</td>\n",
              "      <td>0.769287</td>\n",
              "      <td>...</td>\n",
              "      <td>0.018028</td>\n",
              "      <td>-0.211670</td>\n",
              "      <td>-0.535278</td>\n",
              "      <td>-0.482239</td>\n",
              "      <td>0.120361</td>\n",
              "      <td>0.224365</td>\n",
              "      <td>-0.651489</td>\n",
              "      <td>0.420685</td>\n",
              "      <td>-0.646729</td>\n",
              "      <td>-0.746338</td>\n",
              "      <td>0.302979</td>\n",
              "      <td>1.027100</td>\n",
              "      <td>0.483215</td>\n",
              "      <td>-0.176514</td>\n",
              "      <td>0.428345</td>\n",
              "      <td>-0.668945</td>\n",
              "      <td>-0.528748</td>\n",
              "      <td>-0.209900</td>\n",
              "      <td>0.266418</td>\n",
              "      <td>1.190430</td>\n",
              "      <td>-0.124023</td>\n",
              "      <td>-0.069092</td>\n",
              "      <td>-0.208344</td>\n",
              "      <td>0.412598</td>\n",
              "      <td>0.354492</td>\n",
              "      <td>0.668030</td>\n",
              "      <td>0.125977</td>\n",
              "      <td>1.134766</td>\n",
              "      <td>0.370728</td>\n",
              "      <td>0.572144</td>\n",
              "      <td>-0.314667</td>\n",
              "      <td>-0.791748</td>\n",
              "      <td>-0.379883</td>\n",
              "      <td>1.155762</td>\n",
              "      <td>0.494080</td>\n",
              "      <td>0.300537</td>\n",
              "      <td>0.562561</td>\n",
              "      <td>-0.772583</td>\n",
              "      <td>-0.414795</td>\n",
              "      <td>0.691650</td>\n",
              "    </tr>\n",
              "    <tr>\n",
              "      <th>1</th>\n",
              "      <td>0.704102</td>\n",
              "      <td>0.338440</td>\n",
              "      <td>-0.088043</td>\n",
              "      <td>0.130981</td>\n",
              "      <td>0.600811</td>\n",
              "      <td>-0.598633</td>\n",
              "      <td>-0.385010</td>\n",
              "      <td>-0.323828</td>\n",
              "      <td>0.222122</td>\n",
              "      <td>-0.048828</td>\n",
              "      <td>0.437500</td>\n",
              "      <td>-0.752441</td>\n",
              "      <td>-0.763672</td>\n",
              "      <td>0.200562</td>\n",
              "      <td>-0.635498</td>\n",
              "      <td>0.007690</td>\n",
              "      <td>0.316284</td>\n",
              "      <td>0.204834</td>\n",
              "      <td>-0.895203</td>\n",
              "      <td>0.090317</td>\n",
              "      <td>0.293335</td>\n",
              "      <td>-0.046265</td>\n",
              "      <td>-0.405273</td>\n",
              "      <td>-0.188354</td>\n",
              "      <td>-0.280029</td>\n",
              "      <td>-1.048950</td>\n",
              "      <td>-0.690002</td>\n",
              "      <td>0.282471</td>\n",
              "      <td>0.400558</td>\n",
              "      <td>-0.228981</td>\n",
              "      <td>0.452637</td>\n",
              "      <td>-0.053329</td>\n",
              "      <td>-0.500977</td>\n",
              "      <td>-0.116272</td>\n",
              "      <td>-0.317017</td>\n",
              "      <td>-0.705933</td>\n",
              "      <td>-0.006088</td>\n",
              "      <td>-0.331055</td>\n",
              "      <td>0.645020</td>\n",
              "      <td>-0.031677</td>\n",
              "      <td>...</td>\n",
              "      <td>0.206177</td>\n",
              "      <td>-0.295654</td>\n",
              "      <td>0.515854</td>\n",
              "      <td>0.492676</td>\n",
              "      <td>-0.035034</td>\n",
              "      <td>-0.212646</td>\n",
              "      <td>-1.162292</td>\n",
              "      <td>-0.244873</td>\n",
              "      <td>-0.569824</td>\n",
              "      <td>-0.025391</td>\n",
              "      <td>0.618042</td>\n",
              "      <td>0.238770</td>\n",
              "      <td>0.489990</td>\n",
              "      <td>-0.134521</td>\n",
              "      <td>0.133118</td>\n",
              "      <td>-0.053223</td>\n",
              "      <td>0.061035</td>\n",
              "      <td>-0.335180</td>\n",
              "      <td>0.073486</td>\n",
              "      <td>0.233276</td>\n",
              "      <td>-0.036133</td>\n",
              "      <td>-0.684326</td>\n",
              "      <td>0.433838</td>\n",
              "      <td>0.152161</td>\n",
              "      <td>-0.083130</td>\n",
              "      <td>-0.684692</td>\n",
              "      <td>-0.920166</td>\n",
              "      <td>0.236450</td>\n",
              "      <td>0.718506</td>\n",
              "      <td>0.424561</td>\n",
              "      <td>-0.377930</td>\n",
              "      <td>-0.047363</td>\n",
              "      <td>-0.583496</td>\n",
              "      <td>-0.127228</td>\n",
              "      <td>-0.168091</td>\n",
              "      <td>-0.421387</td>\n",
              "      <td>0.439209</td>\n",
              "      <td>-0.144379</td>\n",
              "      <td>0.791382</td>\n",
              "      <td>0.365540</td>\n",
              "    </tr>\n",
              "    <tr>\n",
              "      <th>2</th>\n",
              "      <td>-0.220215</td>\n",
              "      <td>1.229004</td>\n",
              "      <td>0.310913</td>\n",
              "      <td>1.768066</td>\n",
              "      <td>-0.280273</td>\n",
              "      <td>-0.634094</td>\n",
              "      <td>0.148682</td>\n",
              "      <td>-0.867163</td>\n",
              "      <td>0.567627</td>\n",
              "      <td>-0.423828</td>\n",
              "      <td>0.231720</td>\n",
              "      <td>-1.950684</td>\n",
              "      <td>-1.410400</td>\n",
              "      <td>0.058472</td>\n",
              "      <td>-0.809570</td>\n",
              "      <td>0.268921</td>\n",
              "      <td>-0.577515</td>\n",
              "      <td>1.371338</td>\n",
              "      <td>-0.315674</td>\n",
              "      <td>-0.523438</td>\n",
              "      <td>0.056030</td>\n",
              "      <td>-0.620117</td>\n",
              "      <td>0.173988</td>\n",
              "      <td>-1.152908</td>\n",
              "      <td>-0.953384</td>\n",
              "      <td>0.159851</td>\n",
              "      <td>-2.281982</td>\n",
              "      <td>0.570312</td>\n",
              "      <td>0.327866</td>\n",
              "      <td>-0.204079</td>\n",
              "      <td>0.267822</td>\n",
              "      <td>0.098480</td>\n",
              "      <td>-1.051025</td>\n",
              "      <td>-0.138062</td>\n",
              "      <td>-0.007385</td>\n",
              "      <td>0.194824</td>\n",
              "      <td>-0.482895</td>\n",
              "      <td>0.886230</td>\n",
              "      <td>0.475708</td>\n",
              "      <td>0.537613</td>\n",
              "      <td>...</td>\n",
              "      <td>-0.230957</td>\n",
              "      <td>0.182745</td>\n",
              "      <td>0.146484</td>\n",
              "      <td>0.280396</td>\n",
              "      <td>0.056885</td>\n",
              "      <td>1.218689</td>\n",
              "      <td>0.715347</td>\n",
              "      <td>-0.534851</td>\n",
              "      <td>-1.497498</td>\n",
              "      <td>-0.647705</td>\n",
              "      <td>-0.343719</td>\n",
              "      <td>0.656250</td>\n",
              "      <td>0.109009</td>\n",
              "      <td>0.257385</td>\n",
              "      <td>1.064758</td>\n",
              "      <td>-0.669250</td>\n",
              "      <td>-1.190918</td>\n",
              "      <td>-0.305420</td>\n",
              "      <td>-0.795410</td>\n",
              "      <td>0.575439</td>\n",
              "      <td>0.806274</td>\n",
              "      <td>1.077515</td>\n",
              "      <td>-0.174744</td>\n",
              "      <td>0.546387</td>\n",
              "      <td>-1.460144</td>\n",
              "      <td>0.169556</td>\n",
              "      <td>-0.326172</td>\n",
              "      <td>0.687378</td>\n",
              "      <td>0.866943</td>\n",
              "      <td>-0.736816</td>\n",
              "      <td>-0.870361</td>\n",
              "      <td>0.158844</td>\n",
              "      <td>-0.388428</td>\n",
              "      <td>1.505493</td>\n",
              "      <td>-0.430908</td>\n",
              "      <td>-0.593018</td>\n",
              "      <td>-0.137207</td>\n",
              "      <td>-0.065277</td>\n",
              "      <td>-0.132751</td>\n",
              "      <td>-0.126831</td>\n",
              "    </tr>\n",
              "    <tr>\n",
              "      <th>3</th>\n",
              "      <td>-0.460495</td>\n",
              "      <td>0.960876</td>\n",
              "      <td>0.474609</td>\n",
              "      <td>1.914612</td>\n",
              "      <td>-0.471741</td>\n",
              "      <td>-1.516251</td>\n",
              "      <td>-0.466263</td>\n",
              "      <td>-0.202026</td>\n",
              "      <td>1.495361</td>\n",
              "      <td>0.725769</td>\n",
              "      <td>-0.024559</td>\n",
              "      <td>-1.408997</td>\n",
              "      <td>-0.213440</td>\n",
              "      <td>0.124939</td>\n",
              "      <td>-1.322021</td>\n",
              "      <td>0.587769</td>\n",
              "      <td>0.429932</td>\n",
              "      <td>1.172485</td>\n",
              "      <td>-0.380981</td>\n",
              "      <td>-1.040771</td>\n",
              "      <td>0.501831</td>\n",
              "      <td>0.220215</td>\n",
              "      <td>0.456909</td>\n",
              "      <td>0.303772</td>\n",
              "      <td>-0.681274</td>\n",
              "      <td>0.091736</td>\n",
              "      <td>-1.321869</td>\n",
              "      <td>-0.466980</td>\n",
              "      <td>1.772461</td>\n",
              "      <td>-0.426208</td>\n",
              "      <td>0.851898</td>\n",
              "      <td>-0.291260</td>\n",
              "      <td>-2.051270</td>\n",
              "      <td>1.538696</td>\n",
              "      <td>0.679382</td>\n",
              "      <td>-0.830322</td>\n",
              "      <td>1.382278</td>\n",
              "      <td>1.021851</td>\n",
              "      <td>0.757233</td>\n",
              "      <td>1.598877</td>\n",
              "      <td>...</td>\n",
              "      <td>-0.624252</td>\n",
              "      <td>-0.104004</td>\n",
              "      <td>0.681213</td>\n",
              "      <td>1.674805</td>\n",
              "      <td>1.634033</td>\n",
              "      <td>1.262512</td>\n",
              "      <td>-1.766602</td>\n",
              "      <td>-0.261185</td>\n",
              "      <td>-1.568848</td>\n",
              "      <td>-0.537323</td>\n",
              "      <td>-0.358978</td>\n",
              "      <td>0.681274</td>\n",
              "      <td>-0.558777</td>\n",
              "      <td>0.260132</td>\n",
              "      <td>-0.604980</td>\n",
              "      <td>-1.306702</td>\n",
              "      <td>-0.208801</td>\n",
              "      <td>-1.509399</td>\n",
              "      <td>-1.819580</td>\n",
              "      <td>0.596619</td>\n",
              "      <td>-0.349731</td>\n",
              "      <td>0.139893</td>\n",
              "      <td>1.188721</td>\n",
              "      <td>1.613647</td>\n",
              "      <td>-0.378708</td>\n",
              "      <td>-0.753395</td>\n",
              "      <td>-1.018738</td>\n",
              "      <td>-0.440735</td>\n",
              "      <td>1.644531</td>\n",
              "      <td>-0.495605</td>\n",
              "      <td>-0.433350</td>\n",
              "      <td>-1.399902</td>\n",
              "      <td>-1.244823</td>\n",
              "      <td>0.199219</td>\n",
              "      <td>1.128784</td>\n",
              "      <td>-0.080750</td>\n",
              "      <td>0.847412</td>\n",
              "      <td>-0.405518</td>\n",
              "      <td>1.558411</td>\n",
              "      <td>2.097168</td>\n",
              "    </tr>\n",
              "    <tr>\n",
              "      <th>4</th>\n",
              "      <td>-0.460938</td>\n",
              "      <td>0.085632</td>\n",
              "      <td>-0.272705</td>\n",
              "      <td>-0.189941</td>\n",
              "      <td>-0.072021</td>\n",
              "      <td>-0.117081</td>\n",
              "      <td>0.158081</td>\n",
              "      <td>-0.726074</td>\n",
              "      <td>0.934082</td>\n",
              "      <td>0.249512</td>\n",
              "      <td>-0.253174</td>\n",
              "      <td>-0.492432</td>\n",
              "      <td>-0.233398</td>\n",
              "      <td>0.087036</td>\n",
              "      <td>0.198486</td>\n",
              "      <td>1.014038</td>\n",
              "      <td>0.193872</td>\n",
              "      <td>-0.141113</td>\n",
              "      <td>-0.408813</td>\n",
              "      <td>-0.433533</td>\n",
              "      <td>0.558655</td>\n",
              "      <td>-0.030396</td>\n",
              "      <td>0.416504</td>\n",
              "      <td>-0.301270</td>\n",
              "      <td>-0.409180</td>\n",
              "      <td>-0.273331</td>\n",
              "      <td>-0.986816</td>\n",
              "      <td>0.327393</td>\n",
              "      <td>0.171692</td>\n",
              "      <td>-0.057373</td>\n",
              "      <td>-0.205566</td>\n",
              "      <td>-0.067749</td>\n",
              "      <td>-0.613403</td>\n",
              "      <td>-0.364258</td>\n",
              "      <td>0.126801</td>\n",
              "      <td>0.491699</td>\n",
              "      <td>0.032532</td>\n",
              "      <td>0.872070</td>\n",
              "      <td>0.343109</td>\n",
              "      <td>0.912842</td>\n",
              "      <td>...</td>\n",
              "      <td>0.387939</td>\n",
              "      <td>0.747559</td>\n",
              "      <td>0.082764</td>\n",
              "      <td>1.142822</td>\n",
              "      <td>0.121094</td>\n",
              "      <td>0.526062</td>\n",
              "      <td>-0.579102</td>\n",
              "      <td>-0.485596</td>\n",
              "      <td>-0.325287</td>\n",
              "      <td>-0.320190</td>\n",
              "      <td>-0.317139</td>\n",
              "      <td>0.629883</td>\n",
              "      <td>0.609955</td>\n",
              "      <td>-0.645020</td>\n",
              "      <td>0.107910</td>\n",
              "      <td>-0.156754</td>\n",
              "      <td>-0.174988</td>\n",
              "      <td>0.126953</td>\n",
              "      <td>0.034668</td>\n",
              "      <td>0.833697</td>\n",
              "      <td>-0.240234</td>\n",
              "      <td>-0.219727</td>\n",
              "      <td>-0.056152</td>\n",
              "      <td>0.136017</td>\n",
              "      <td>0.194824</td>\n",
              "      <td>-0.472412</td>\n",
              "      <td>-0.363770</td>\n",
              "      <td>0.062317</td>\n",
              "      <td>0.042480</td>\n",
              "      <td>-0.274170</td>\n",
              "      <td>-0.305847</td>\n",
              "      <td>-0.498047</td>\n",
              "      <td>-0.184570</td>\n",
              "      <td>0.282471</td>\n",
              "      <td>0.033691</td>\n",
              "      <td>-0.377197</td>\n",
              "      <td>0.029053</td>\n",
              "      <td>-0.305176</td>\n",
              "      <td>0.431885</td>\n",
              "      <td>0.975769</td>\n",
              "    </tr>\n",
              "  </tbody>\n",
              "</table>\n",
              "<p>5 rows × 300 columns</p>\n",
              "</div>"
            ],
            "text/plain": [
              "        0         1         2    ...       297       298       299\n",
              "0 -1.112793  0.780029  0.455811  ... -0.772583 -0.414795  0.691650\n",
              "1  0.704102  0.338440 -0.088043  ... -0.144379  0.791382  0.365540\n",
              "2 -0.220215  1.229004  0.310913  ... -0.065277 -0.132751 -0.126831\n",
              "3 -0.460495  0.960876  0.474609  ... -0.405518  1.558411  2.097168\n",
              "4 -0.460938  0.085632 -0.272705  ... -0.305176  0.431885  0.975769\n",
              "\n",
              "[5 rows x 300 columns]"
            ]
          },
          "metadata": {
            "tags": []
          },
          "execution_count": 30
        }
      ]
    },
    {
      "cell_type": "code",
      "metadata": {
        "id": "JWPHG0EiGVTv",
        "colab_type": "code",
        "colab": {
          "base_uri": "https://localhost:8080/",
          "height": 34
        },
        "outputId": "a03edd48-3d1e-431f-ff5a-84afe6cbcda0"
      },
      "source": [
        "X_test = X_test.to_numpy()\n",
        "Y_test = Y_test.to_numpy()\n",
        "Y_test = Y_test.astype(float)\n",
        "Y_test.dtype"
      ],
      "execution_count": null,
      "outputs": [
        {
          "output_type": "execute_result",
          "data": {
            "text/plain": [
              "dtype('float64')"
            ]
          },
          "metadata": {
            "tags": []
          },
          "execution_count": 31
        }
      ]
    },
    {
      "cell_type": "code",
      "metadata": {
        "id": "dAu95lyiXuzl",
        "colab_type": "code",
        "colab": {}
      },
      "source": [
        "#computes distance of point from whole dataset\n",
        "def cosine_similarity (testdataset, traindataset):\n",
        "\n",
        "  similaritymatrix = np.dot(testdataset,traindataset.T)\n",
        "  print(similaritymatrix.shape)\n",
        "  Asqr = np.square(testdataset)\n",
        "  A = np.sum(Asqr,axis=1)\n",
        "  A = np.sqrt(A)\n",
        "  print(A.shape)\n",
        "  Bsqr = np.square(traindataset)\n",
        "  B = np.sum(Bsqr,axis=1)\n",
        "  B = np.sqrt(B)\n",
        "  print(B.shape)\n",
        "\n",
        "  for x in range(testdataset.shape[0]):\n",
        "    print(x)\n",
        "    for y in range(traindataset.shape[0]):\n",
        "\n",
        "      similaritymatrix[x,y] = similaritymatrix[x,y]/(A[x]*B[y])\n",
        "\n",
        "  print(similaritymatrix.shape)\n",
        "  return similaritymatrix"
      ],
      "execution_count": null,
      "outputs": []
    },
    {
      "cell_type": "code",
      "metadata": {
        "id": "RErnQ1UWFz43",
        "colab_type": "code",
        "colab": {}
      },
      "source": [
        "similaritymatrix = cosine_similarity(X_test,X)\n",
        "print(similaritymatrix.shape)\n",
        "cosine_distance = 1 - similaritymatrix\n",
        "print(cosine_distance.shape)"
      ],
      "execution_count": null,
      "outputs": []
    },
    {
      "cell_type": "code",
      "metadata": {
        "id": "W7eUtoKiHM_w",
        "colab_type": "code",
        "colab": {}
      },
      "source": [
        "#predicts class of the testdata from traindata on base of k nearest neighbours \n",
        "def predict(testdata,Ytrain,k,similaritymatrix):\n",
        "\n",
        "  testclass = []\n",
        "\n",
        "  for x in range(testdata.shape[0]):\n",
        "\n",
        "    distances = similaritymatrix[x,:]\n",
        "    #print(distances.shape)\n",
        "    #sorting array of distances to get k nearest neighbours\n",
        "    sortedDis = np.argsort(distances,axis=0, kind='quicksort')\n",
        "    classes = np.zeros((2,1))\n",
        "\n",
        "    for i in range(k):\n",
        "\n",
        "      #getting indexes of k nearest neighbours\n",
        "      index = sortedDis[i]\n",
        "      #print('index =', index)\n",
        "      Sd_index = index\n",
        "      #print(distances[index])\n",
        "      #print(Sd_index)\n",
        "      #counting frequency of classes of neighbors, to determine most frequent class\n",
        "      if (Ytrain[Sd_index] == 0):\n",
        "        classes[0] += 1\n",
        "\n",
        "      if (Ytrain[Sd_index] == 1):\n",
        "        classes[1] += 1\n",
        "\n",
        "    #incase of tie, try again with k-1 neighbors\n",
        "    if(classes[0]==classes[1]):\n",
        "\n",
        "      classes[0] =0\n",
        "      classes[1] =0\n",
        "\n",
        "      for i in range(k):\n",
        "\n",
        "        #getting indexes of k-1 nearest neighbours from current point \n",
        "        index = sortedDis[i]\n",
        "        Sd_index = index\n",
        "        #print(Sd_index)\n",
        "        #counting frequency of classes of neighbors, to determine most frequent class\n",
        "        if (Ytrain[Sd_index] == 0):\n",
        "          classes[0] += 1\n",
        "\n",
        "        if (Ytrain[Sd_index] == 1):\n",
        "          classes[1] += 1\n",
        "      \n",
        "    #assigning class to the point with highest no of nearest neighbours\n",
        "    if (classes.argmax() == 0):\n",
        "      finalclass = 0\n",
        "      print(finalclass)\n",
        "\n",
        "    if (classes.argmax() == 1):\n",
        "      finalclass = 1\n",
        "      print(finalclass)\n",
        "\n",
        "    testclass.append(finalclass)\n",
        "    print('point =', x)\n",
        "\n",
        "  return testclass\n"
      ],
      "execution_count": null,
      "outputs": []
    },
    {
      "cell_type": "code",
      "metadata": {
        "id": "nG40SxEihrKk",
        "colab_type": "code",
        "colab": {}
      },
      "source": [
        "k=10\n",
        "print(cosine_distance.shape)\n",
        "testclass = predict(X_test,Y, k, cosine_distance )"
      ],
      "execution_count": null,
      "outputs": []
    },
    {
      "cell_type": "code",
      "metadata": {
        "id": "YZfQ5RAaJDSV",
        "colab_type": "code",
        "colab": {}
      },
      "source": [
        "#computes accuracy of the result by comparing predicted class from actual class of each point\n",
        "def result (testdata,Ytest,testclass):\n",
        "\n",
        "  true = 0\n",
        "  false = 0\n",
        "\n",
        "  for x in range(testdata.shape[0]):\n",
        "\n",
        "    if(testclass[x] == Ytest[x]):\n",
        "      true += 1\n",
        "    else:\n",
        "      #print(testclass[x],Ytest[x])\n",
        "      false += 1\n",
        "\n",
        "  accuracy = true / (true+false)*100\n",
        "  \n",
        "  return accuracy "
      ],
      "execution_count": null,
      "outputs": []
    },
    {
      "cell_type": "code",
      "metadata": {
        "id": "W988IqZj7SxC",
        "colab_type": "code",
        "colab": {}
      },
      "source": [
        "#creates confusion matrix from actual and predicted tags and value of precision, recall etc\n",
        "def confusionMatrix (my_Y, Y):\n",
        "\n",
        "    TP = 0\n",
        "    TN = 0\n",
        "    FP = 0\n",
        "    FN = 0\n",
        "\n",
        "    for i in range(np.size(my_Y)):\n",
        "\n",
        "        if(Y[i] == 1):\n",
        "            if(my_Y[i] == 1):\n",
        "                TP +=1\n",
        "\n",
        "        if(Y[i] == 1):\n",
        "            if(my_Y[i] == 0):\n",
        "                FN+=1\n",
        "\n",
        "        if(Y[i] == 0):\n",
        "            if(my_Y[i] == 0):\n",
        "                TN+=1\n",
        "\n",
        "        if(Y[i] == 0):\n",
        "            if(my_Y[i] == 1):\n",
        "                FP+=1\n",
        "\n",
        "    ConfMatrix = [[TP,FP],\n",
        "                  [FN,TN]]\n",
        "    print('Confusion Matrix:\\n',ConfMatrix)\n",
        "\n",
        "    Accuracy = (TP+TN)/(TP+TN+FN+FP)\n",
        "    Precision = TP/(TP+FP)\n",
        "    Recall = TP/(TP+FN)\n",
        "    F1 = (2*(Precision*Recall))/(Precision+Recall)\n",
        "\n",
        "    df_cm = pd.DataFrame(ConfMatrix, index = [i for i in \"10\"],\n",
        "                  columns = [i for i in \"10\"])\n",
        "    plt.figure(figsize = (5,5))\n",
        "    sn.heatmap(df_cm, annot=True)\n",
        "    \n",
        "    \n",
        "    print('Accuracy = ', Accuracy)\n",
        "    print('Precision = ', Precision)\n",
        "    print('Recall = ', Recall)\n",
        "    print('F1 score = ', F1)\n",
        "\n",
        "    return "
      ],
      "execution_count": null,
      "outputs": []
    },
    {
      "cell_type": "code",
      "metadata": {
        "id": "Nsg4tYIlwrWR",
        "colab_type": "code",
        "colab": {
          "base_uri": "https://localhost:8080/",
          "height": 441
        },
        "outputId": "9cc1ccd0-d00c-4222-a15a-816f53c90e9c"
      },
      "source": [
        "accuracy = result(testData,Y_test,testclass)\n",
        "\n",
        "print('Accuracy of classification for k =',k, 'is', accuracy,'%')\n",
        "confusionMatrix(testclass, Y_test)"
      ],
      "execution_count": null,
      "outputs": [
        {
          "output_type": "stream",
          "text": [
            "Accuracy of classification for k = 1 is 71.81548139087892 %\n",
            "Confusion Matrix:\n",
            " [[1900, 786], [827, 2210]]\n",
            "Accuracy =  0.7181548139087891\n",
            "Precision =  0.7073715562174236\n",
            "Recall =  0.6967363403006968\n",
            "F1 score =  0.7020136707925365\n"
          ],
          "name": "stdout"
        },
        {
          "output_type": "display_data",
          "data": {
            "image/png": "[encoded data removed]",
            "text/plain": [
              "<Figure size 360x360 with 2 Axes>"
            ]
          },
          "metadata": {
            "tags": [],
            "needs_background": "light"
          }
        }
      ]
    },
    {
      "cell_type": "code",
      "metadata": {
        "id": "MziUDYgLwrSQ",
        "colab_type": "code",
        "colab": {
          "base_uri": "https://localhost:8080/",
          "height": 439
        },
        "outputId": "612240f2-4415-4194-83a9-1d4d309be9f8"
      },
      "source": [
        "accuracy = result(testData,Y_test,testclass)\n",
        "\n",
        "print('Accuracy of classification for k =',k, 'is', accuracy,'%')\n",
        "confusionMatrix(testclass, Y_test)"
      ],
      "execution_count": null,
      "outputs": [
        {
          "output_type": "stream",
          "text": [
            "Accuracy of classification for k = 3 is 74.31417088939367 %\n",
            "Confusion Matrix:\n",
            " [[1951, 694], [776, 2302]]\n",
            "Accuracy =  0.7431417088939367\n",
            "Precision =  0.7376181474480151\n",
            "Recall =  0.7154382104877154\n",
            "F1 score =  0.7263588979895755\n"
          ],
          "name": "stdout"
        },
        {
          "output_type": "display_data",
          "data": {
            "image/png": "[encoded data removed]",
            "text/plain": [
              "<Figure size 360x360 with 2 Axes>"
            ]
          },
          "metadata": {
            "tags": [],
            "needs_background": "light"
          }
        }
      ]
    },
    {
      "cell_type": "code",
      "metadata": {
        "id": "AGBMH-b3bBek",
        "colab_type": "code",
        "colab": {
          "base_uri": "https://localhost:8080/",
          "height": 439
        },
        "outputId": "9eb93e42-4cbf-4308-bbcd-fb04675c32b4"
      },
      "source": [
        "accuracy = result(testData,Y_test,testclass)\n",
        "\n",
        "print('Accuracy of classification for k =',k, 'is', accuracy,'%')\n",
        "confusionMatrix(testclass, Y_test)"
      ],
      "execution_count": null,
      "outputs": [
        {
          "output_type": "stream",
          "text": [
            "Accuracy of classification for k = 5 is 75.53730560894635 %\n",
            "Confusion Matrix:\n",
            " [[1987, 660], [740, 2336]]\n",
            "Accuracy =  0.7553730560894636\n",
            "Precision =  0.7506611258027956\n",
            "Recall =  0.7286395306197286\n",
            "F1 score =  0.7394864160774097\n"
          ],
          "name": "stdout"
        },
        {
          "output_type": "display_data",
          "data": {
            "image/png": "[encoded data removed]",
            "text/plain": [
              "<Figure size 360x360 with 2 Axes>"
            ]
          },
          "metadata": {
            "tags": [],
            "needs_background": "light"
          }
        }
      ]
    },
    {
      "cell_type": "code",
      "metadata": {
        "id": "fxcZq23fl30R",
        "colab_type": "code",
        "colab": {
          "base_uri": "https://localhost:8080/",
          "height": 439
        },
        "outputId": "46c854f2-c653-447c-951b-a6a133418c1b"
      },
      "source": [
        "accuracy = result(testData,Y_test,testclass)\n",
        "\n",
        "print('Accuracy of classification for k =',k, 'is', accuracy,'%')\n",
        "confusionMatrix(testclass, Y_test)"
      ],
      "execution_count": null,
      "outputs": [
        {
          "output_type": "stream",
          "text": [
            "Accuracy of classification for k = 7 is 76.1488729687227 %\n",
            "Confusion Matrix:\n",
            " [[2002, 640], [725, 2356]]\n",
            "Accuracy =  0.761488729687227\n",
            "Precision =  0.7577592732778198\n",
            "Recall =  0.7341400806747341\n",
            "F1 score =  0.7457627118644068\n"
          ],
          "name": "stdout"
        },
        {
          "output_type": "display_data",
          "data": {
            "image/png": "[encoded data removed]",
            "text/plain": [
              "<Figure size 360x360 with 2 Axes>"
            ]
          },
          "metadata": {
            "tags": [],
            "needs_background": "light"
          }
        }
      ]
    },
    {
      "cell_type": "code",
      "metadata": {
        "id": "46vW8dTDttz2",
        "colab_type": "code",
        "colab": {
          "base_uri": "https://localhost:8080/",
          "height": 439
        },
        "outputId": "e5e565f4-9103-4122-f6aa-674c5e07786a"
      },
      "source": [
        "accuracy = result(testData,Y_test,testclass)\n",
        "\n",
        "print('Accuracy of classification for k =',k, 'is', accuracy,'%')\n",
        "confusionMatrix(testclass, Y_test)"
      ],
      "execution_count": null,
      "outputs": [
        {
          "output_type": "stream",
          "text": [
            "Accuracy of classification for k = 10 is 75.34509872444522 %\n",
            "Confusion Matrix:\n",
            " [[1813, 497], [914, 2499]]\n",
            "Accuracy =  0.7534509872444523\n",
            "Precision =  0.7848484848484848\n",
            "Recall =  0.6648331499816649\n",
            "F1 score =  0.7198729402422076\n"
          ],
          "name": "stdout"
        },
        {
          "output_type": "display_data",
          "data": {
            "image/png": "[encoded data removed]",
            "text/plain": [
              "<Figure size 360x360 with 2 Axes>"
            ]
          },
          "metadata": {
            "tags": [],
            "needs_background": "light"
          }
        }
      ]
    },
    {
      "cell_type": "code",
      "metadata": {
        "id": "x_9I_stV9KZq",
        "colab_type": "code",
        "colab": {}
      },
      "source": [
        ""
      ],
      "execution_count": null,
      "outputs": []
    }
  ]
}